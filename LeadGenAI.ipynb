{
 "cells": [
  {
   "cell_type": "code",
   "execution_count": 28,
   "id": "ab7877cf-6739-4a80-a926-530d6ed58e76",
   "metadata": {},
   "outputs": [],
   "source": [
    "# check OpenAI API key in environment, interaactively set it if not not present \n",
    "\n",
    "import os, getpass\n",
    "\n",
    "def _set_env(var: str):\n",
    "    if not os.environ.get(var):\n",
    "        os.environ[var] = getpass.getpass(f\"{var}: \")\n",
    "\n",
    "_set_env(\"OPENAI_API_KEY\")"
   ]
  },
  {
   "cell_type": "code",
   "execution_count": 29,
   "id": "da5def41-cff9-47cf-9f92-cd08b5dc527e",
   "metadata": {},
   "outputs": [],
   "source": [
    "FILE_PATH = \"media/sample_leads_10.csv\"\n",
    "EMAIL_TEMPLATE = \"media/email_template.md\""
   ]
  },
  {
   "cell_type": "code",
   "execution_count": 30,
   "id": "36666c08-575c-49db-82d1-09fe3e1a0fdf",
   "metadata": {},
   "outputs": [],
   "source": [
    "# Load CSV File and extract data using lead_generator\n",
    "\n",
    "import csv\n",
    "from dataclasses import dataclass\n",
    "\n",
    "@dataclass\n",
    "class Lead:\n",
    "    # Lead dataclass to store data\n",
    "    name: str\n",
    "    email: str\n",
    "    company: str\n",
    "    job_title: str\n",
    "    industry: str\n",
    "\n",
    "    def str(self):\n",
    "        return f\"\"\"name={self.name}, email={self.email}, \n",
    "                company={self.company}, job_title={self.job_title}, \n",
    "                industry={self.industry}\"\"\"\n",
    "\n",
    "\n",
    "def lead_generator():\n",
    "    with open(FILE_PATH, newline=\"\") as csvfile:\n",
    "        reader = csv.DictReader(csvfile)\n",
    "        for row in reader:\n",
    "            yield Lead(\n",
    "                name=row[\"Name\"],\n",
    "                email=row[\"Email\"],\n",
    "                company=row[\"Company\"],\n",
    "                job_title=row[\"Job Title\"],\n",
    "                industry=row[\"Industry\"],\n",
    "            ).str()\n",
    "\n",
    "leads = lead_generator()"
   ]
  },
  {
   "cell_type": "code",
   "execution_count": 31,
   "id": "a0a26ac6-1447-4f1e-b2c1-f4520703b6ac",
   "metadata": {},
   "outputs": [],
   "source": [
    "from langchain_openai import ChatOpenAI\n",
    "from langgraph.graph import MessagesState\n",
    "from langchain_core.messages import HumanMessage, SystemMessage"
   ]
  },
  {
   "cell_type": "code",
   "execution_count": 32,
   "id": "05b2b28c-8965-42f4-b05e-f28692159cef",
   "metadata": {},
   "outputs": [],
   "source": [
    "# System prompts for Email Construction, Quality Check and Orchestrator Agents\n",
    "eca_sys_msg = SystemMessage(content=\"Write an email based on the given template by filling in the\"\n",
    "                                    \" template with personalized content for the lead.\")\n",
    "\n",
    "qca_sys_msg = SystemMessage(content=\"You are a helpful assistant tasked with comparing two emails\"\n",
    "                                    \" based on relevance, tone, engagement potential and selecting the best one.\"\n",
    "                                    \" return LLM_1 for first email or LLM_2 for second.\")\n",
    "\n",
    "o10r_sys_msg = SystemMessage(content=\"You are a helpful assistant tasked with writing emails for business leads.\"\n",
    "                                    \" Use Email Construction Agents and write two different emails for the same lead.\"\n",
    "                                    \" Once you have the two emails use Quality Check Agent to select best one.\" \n",
    "                                    \" Which will tell LLM_1 or LLM_2\"\n",
    "                                    \" Save all the output in a file. \")"
   ]
  },
  {
   "cell_type": "code",
   "execution_count": 33,
   "id": "eaedb815-4629-42b1-8ef4-3e4547a2f5ac",
   "metadata": {},
   "outputs": [],
   "source": [
    "# tools functions -  here Email Construction and Quality Check Agents are also used as tools by Orchestrator\n",
    "\n",
    "def get_email_template() -> str:\n",
    "    \"\"\"Get email template\"\"\"\n",
    "    with open(EMAIL_TEMPLATE, \"r\") as f:\n",
    "        return f.read().replace('\\\\n','\\n')\n",
    "h\n",
    "def get_lead() -> int:\n",
    "    \"\"\"Get next lead from lead iterator\"\"\"\n",
    "    return next(leads)\n",
    "\n",
    "def email_agent_1(lead_details: str) -> str:\n",
    "    \"\"\"Email Construction Agent 1 used to write email based on lead data\n",
    "    \n",
    "    Args:\n",
    "        lead_details: str\n",
    "    \"\"\"\n",
    "    llm_EA1 = ChatOpenAI(model=\"gpt-4\")\n",
    "    return llm_EA1.invoke([eca_sys_msg] + [SystemMessage(content=lead_details)])\n",
    "\n",
    "\n",
    "def email_agent_2(lead_details: str) -> str:\n",
    "    \"\"\"Email Construction Agent 2 used to write email based on lead data\n",
    "    \n",
    "    Args:\n",
    "        lead_details: str\n",
    "    \"\"\"\n",
    "    llm_EA2 = ChatOpenAI(model=\"gpt-3.5-turbo\")    \n",
    "    return llm_EA2.invoke([eca_sys_msg] + [SystemMessage(content=lead_details)])\n",
    "\n",
    "def quality_check_agent(email_1: str, email_2: str) -> str:\n",
    "    \"\"\"Quality check email used to compare and select the best email out of two.\n",
    "    \n",
    "    Args:\n",
    "        email_1: str\n",
    "        email_2: str\n",
    "    \"\"\"\n",
    "    llm_QCA = ChatOpenAI(model=\"gpt-4o\")\n",
    "    return llm_QCA.invoke([qca_sys_msg] + [SystemMessage(content=email_1 + email_2)])\n",
    "\n",
    "\n",
    "def save_to_file(name: str, \n",
    "                 email: str, \n",
    "                 company: str, \n",
    "                 job_title: str, \n",
    "                 email_llm_1: str, \n",
    "                 email_llm_2: str, \n",
    "                 selected_email: str) -> None:\n",
    "    \"\"\"Store both generated emails along with the comparison result in a file.\"\"\"\n",
    "    import json\n",
    "    with open(f'generated/{name}.json', 'w') as f:\n",
    "        json.dump({\n",
    "        \"name\": name,\n",
    "        \"email\": email,\n",
    "        \"company\": company,\n",
    "        \"job_title\": job_title,\n",
    "        \"email_llm_1\": email_llm_1,\n",
    "        \"email_llm_2\": email_llm_2,\n",
    "        \"selected_email\": selected_email\n",
    "    }, f)\n",
    "\n",
    "\n",
    "tools = [get_lead, get_email_template, email_agent_1, email_agent_2, quality_check_agent, save_to_file]"
   ]
  },
  {
   "cell_type": "code",
   "execution_count": 34,
   "id": "344f801f-c35c-47d2-8df1-15cce40c7131",
   "metadata": {},
   "outputs": [],
   "source": [
    "from langchain_openai import ChatOpenAI\n",
    "\n",
    "# orchestrator node\n",
    "llm_orchestrator = ChatOpenAI(model=\"gpt-3.5-turbo\")\n",
    "llm_with_tools = llm_orchestrator.bind_tools(tools)\n",
    "\n",
    "# Node\n",
    "def assistant(state: MessagesState):\n",
    "    return {\"messages\": [llm_with_tools.invoke([o10r_sys_msg] + state[\"messages\"])]}\n"
   ]
  },
  {
   "cell_type": "code",
   "execution_count": 35,
   "id": "15a99a74-5534-4385-9b58-92082e029bda",
   "metadata": {},
   "outputs": [
    {
     "data": {
      "image/jpeg": "[encoded data removed]",
      "text/plain": [
       "<IPython.core.display.Image object>"
      ]
     },
     "metadata": {},
     "output_type": "display_data"
    }
   ],
   "source": [
    "from langgraph.graph import START, StateGraph\n",
    "from langgraph.prebuilt import tools_condition\n",
    "from langgraph.prebuilt import ToolNode\n",
    "from IPython.display import Image, display\n",
    "\n",
    "# Graph\n",
    "builder = StateGraph(MessagesState)\n",
    "\n",
    "# nodes: Orchestrator and tools\n",
    "builder.add_node(\"Orchestrator\", assistant)\n",
    "\n",
    "builder.add_node(\"tools\", ToolNode(tools))\n",
    "\n",
    "# edges\n",
    "builder.add_edge(START, \"Orchestrator\")\n",
    "builder.add_conditional_edges(\"Orchestrator\", tools_condition)\n",
    "builder.add_edge(\"tools\", \"Orchestrator\")\n",
    "\n",
    "graph = builder.compile()\n",
    "\n",
    "# Show\n",
    "display(Image(graph.get_graph(xray=True).draw_mermaid_png()))"
   ]
  },
  {
   "cell_type": "code",
   "execution_count": 42,
   "id": "42232334-add6-4014-be21-d43afb2446c9",
   "metadata": {},
   "outputs": [
    {
     "ename": "GraphRecursionError",
     "evalue": "Recursion limit of 25 reached without hitting a stop condition. You can increase the limit by setting the `recursion_limit` config key.",
     "output_type": "error",
     "traceback": [
      "\u001b[0;31m---------------------------------------------------------------------------\u001b[0m",
      "\u001b[0;31mGraphRecursionError\u001b[0m                       Traceback (most recent call last)",
      "Cell \u001b[0;32mIn[42], line 5\u001b[0m\n\u001b[1;32m      1\u001b[0m messages \u001b[38;5;241m=\u001b[39m [HumanMessage(content\u001b[38;5;241m=\u001b[39m\u001b[38;5;124m\"\u001b[39m\u001b[38;5;124mGet two leads simultaneously and email template and use email_agent_1 and email_agent_2\u001b[39m\u001b[38;5;124m\"\u001b[39m\n\u001b[1;32m      2\u001b[0m                                  \u001b[38;5;124m\"\u001b[39m\u001b[38;5;124m to write 2 emails for each lead and quality_check_agent to pick the best out of two for each elad.\u001b[39m\u001b[38;5;124m\"\u001b[39m \n\u001b[1;32m      3\u001b[0m                                  \u001b[38;5;124m\"\u001b[39m\u001b[38;5;124m Save the output to a file.\u001b[39m\u001b[38;5;124m\"\u001b[39m)]\n\u001b[0;32m----> 5\u001b[0m messages \u001b[38;5;241m=\u001b[39m \u001b[43mgraph\u001b[49m\u001b[38;5;241;43m.\u001b[39;49m\u001b[43minvoke\u001b[49m\u001b[43m(\u001b[49m\u001b[43m{\u001b[49m\u001b[38;5;124;43m\"\u001b[39;49m\u001b[38;5;124;43mmessages\u001b[39;49m\u001b[38;5;124;43m\"\u001b[39;49m\u001b[43m:\u001b[49m\u001b[43m \u001b[49m\u001b[43mmessages\u001b[49m\u001b[43m}\u001b[49m\u001b[43m)\u001b[49m\n",
      "File \u001b[0;32m~/Library/Caches/pypoetry/virtualenvs/leadgenai-5jG6M2x6-py3.12/lib/python3.12/site-packages/langgraph/pregel/__init__.py:1468\u001b[0m, in \u001b[0;36mPregel.invoke\u001b[0;34m(self, input, config, stream_mode, output_keys, interrupt_before, interrupt_after, debug, **kwargs)\u001b[0m\n\u001b[1;32m   1466\u001b[0m \u001b[38;5;28;01melse\u001b[39;00m:\n\u001b[1;32m   1467\u001b[0m     chunks \u001b[38;5;241m=\u001b[39m []\n\u001b[0;32m-> 1468\u001b[0m \u001b[43m\u001b[49m\u001b[38;5;28;43;01mfor\u001b[39;49;00m\u001b[43m \u001b[49m\u001b[43mchunk\u001b[49m\u001b[43m \u001b[49m\u001b[38;5;129;43;01min\u001b[39;49;00m\u001b[43m \u001b[49m\u001b[38;5;28;43mself\u001b[39;49m\u001b[38;5;241;43m.\u001b[39;49m\u001b[43mstream\u001b[49m\u001b[43m(\u001b[49m\n\u001b[1;32m   1469\u001b[0m \u001b[43m    \u001b[49m\u001b[38;5;28;43minput\u001b[39;49m\u001b[43m,\u001b[49m\n\u001b[1;32m   1470\u001b[0m \u001b[43m    \u001b[49m\u001b[43mconfig\u001b[49m\u001b[43m,\u001b[49m\n\u001b[1;32m   1471\u001b[0m \u001b[43m    \u001b[49m\u001b[43mstream_mode\u001b[49m\u001b[38;5;241;43m=\u001b[39;49m\u001b[43mstream_mode\u001b[49m\u001b[43m,\u001b[49m\n\u001b[1;32m   1472\u001b[0m \u001b[43m    \u001b[49m\u001b[43moutput_keys\u001b[49m\u001b[38;5;241;43m=\u001b[39;49m\u001b[43moutput_keys\u001b[49m\u001b[43m,\u001b[49m\n\u001b[1;32m   1473\u001b[0m \u001b[43m    \u001b[49m\u001b[43minterrupt_before\u001b[49m\u001b[38;5;241;43m=\u001b[39;49m\u001b[43minterrupt_before\u001b[49m\u001b[43m,\u001b[49m\n\u001b[1;32m   1474\u001b[0m \u001b[43m    \u001b[49m\u001b[43minterrupt_after\u001b[49m\u001b[38;5;241;43m=\u001b[39;49m\u001b[43minterrupt_after\u001b[49m\u001b[43m,\u001b[49m\n\u001b[1;32m   1475\u001b[0m \u001b[43m    \u001b[49m\u001b[43mdebug\u001b[49m\u001b[38;5;241;43m=\u001b[39;49m\u001b[43mdebug\u001b[49m\u001b[43m,\u001b[49m\n\u001b[1;32m   1476\u001b[0m \u001b[43m    \u001b[49m\u001b[38;5;241;43m*\u001b[39;49m\u001b[38;5;241;43m*\u001b[39;49m\u001b[43mkwargs\u001b[49m\u001b[43m,\u001b[49m\n\u001b[1;32m   1477\u001b[0m \u001b[43m\u001b[49m\u001b[43m)\u001b[49m\u001b[43m:\u001b[49m\n\u001b[1;32m   1478\u001b[0m \u001b[43m    \u001b[49m\u001b[38;5;28;43;01mif\u001b[39;49;00m\u001b[43m \u001b[49m\u001b[43mstream_mode\u001b[49m\u001b[43m \u001b[49m\u001b[38;5;241;43m==\u001b[39;49m\u001b[43m \u001b[49m\u001b[38;5;124;43m\"\u001b[39;49m\u001b[38;5;124;43mvalues\u001b[39;49m\u001b[38;5;124;43m\"\u001b[39;49m\u001b[43m:\u001b[49m\n\u001b[1;32m   1479\u001b[0m \u001b[43m        \u001b[49m\u001b[43mlatest\u001b[49m\u001b[43m \u001b[49m\u001b[38;5;241;43m=\u001b[39;49m\u001b[43m \u001b[49m\u001b[43mchunk\u001b[49m\n",
      "File \u001b[0;32m~/Library/Caches/pypoetry/virtualenvs/leadgenai-5jG6M2x6-py3.12/lib/python3.12/site-packages/langgraph/pregel/__init__.py:1234\u001b[0m, in \u001b[0;36mPregel.stream\u001b[0;34m(self, input, config, stream_mode, output_keys, interrupt_before, interrupt_after, debug, subgraphs)\u001b[0m\n\u001b[1;32m   1232\u001b[0m \u001b[38;5;66;03m# handle exit\u001b[39;00m\n\u001b[1;32m   1233\u001b[0m \u001b[38;5;28;01mif\u001b[39;00m loop\u001b[38;5;241m.\u001b[39mstatus \u001b[38;5;241m==\u001b[39m \u001b[38;5;124m\"\u001b[39m\u001b[38;5;124mout_of_steps\u001b[39m\u001b[38;5;124m\"\u001b[39m:\n\u001b[0;32m-> 1234\u001b[0m     \u001b[38;5;28;01mraise\u001b[39;00m GraphRecursionError(\n\u001b[1;32m   1235\u001b[0m         \u001b[38;5;124mf\u001b[39m\u001b[38;5;124m\"\u001b[39m\u001b[38;5;124mRecursion limit of \u001b[39m\u001b[38;5;132;01m{\u001b[39;00mconfig[\u001b[38;5;124m'\u001b[39m\u001b[38;5;124mrecursion_limit\u001b[39m\u001b[38;5;124m'\u001b[39m]\u001b[38;5;132;01m}\u001b[39;00m\u001b[38;5;124m reached \u001b[39m\u001b[38;5;124m\"\u001b[39m\n\u001b[1;32m   1236\u001b[0m         \u001b[38;5;124m\"\u001b[39m\u001b[38;5;124mwithout hitting a stop condition. You can increase the \u001b[39m\u001b[38;5;124m\"\u001b[39m\n\u001b[1;32m   1237\u001b[0m         \u001b[38;5;124m\"\u001b[39m\u001b[38;5;124mlimit by setting the `recursion_limit` config key.\u001b[39m\u001b[38;5;124m\"\u001b[39m\n\u001b[1;32m   1238\u001b[0m     )\n\u001b[1;32m   1239\u001b[0m \u001b[38;5;66;03m# set final channel values as run output\u001b[39;00m\n\u001b[1;32m   1240\u001b[0m run_manager\u001b[38;5;241m.\u001b[39mon_chain_end(loop\u001b[38;5;241m.\u001b[39moutput)\n",
      "\u001b[0;31mGraphRecursionError\u001b[0m: Recursion limit of 25 reached without hitting a stop condition. You can increase the limit by setting the `recursion_limit` config key."
     ]
    }
   ],
   "source": [
    "messages = [HumanMessage(content=\"Get two leads simultaneously and email template and use email_agent_1 and email_agent_2\"\n",
    "                                 \" to write 2 emails for each lead and quality_check_agent to pick the best out of two for each elad.\" \n",
    "                                 \" Save the output to a file.\")]\n",
    "\n",
    "messages = graph.invoke({\"messages\": messages})"
   ]
  },
  {
   "cell_type": "code",
   "execution_count": null,
   "id": "55f5f160-78b0-49e1-9e7d-9569e165b685",
   "metadata": {},
   "outputs": [],
   "source": [
    "for m in messages['messages']:\n",
    "    m.pretty_print()"
   ]
  },
  {
   "cell_type": "code",
   "execution_count": null,
   "id": "2f6a2794-8f85-41e0-b0f5-3e266c21bddb",
   "metadata": {},
   "outputs": [],
   "source": []
  }
 ],
 "metadata": {
  "kernelspec": {
   "display_name": "Python 3 (ipykernel)",
   "language": "python",
   "name": "python3"
  },
  "language_info": {
   "codemirror_mode": {
    "name": "ipython",
    "version": 3
   },
   "file_extension": ".py",
   "mimetype": "text/x-python",
   "name": "python",
   "nbconvert_exporter": "python",
   "pygments_lexer": "ipython3",
   "version": "3.12.5"
  }
 },
 "nbformat": 4,
 "nbformat_minor": 5
}
